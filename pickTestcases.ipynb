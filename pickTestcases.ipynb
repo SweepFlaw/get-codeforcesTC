{
 "cells": [
  {
   "cell_type": "markdown",
   "metadata": {},
   "source": [
    "## Pick Testcases\n",
    "\n",
    "### Input\n",
    "\n",
    "list of filenames : string from https: //codeforces.com /contest/xxxx/submission/xxxxx. This string should have some test details, which is in div `tests-placeholder` \n",
    "\n",
    "\n",
    "### Output\n",
    "\n",
    "regard to the given output-directory path argument, this python script generates many files. diretory schema follows the shape described at `CppSynth/findVarErrror`'s `naiveSolution`\n",
    "\n",
    "For invalid testcase (when the testcase input or output is too long), It ignores them."
   ]
  },
  {
   "cell_type": "code",
   "execution_count": 1,
   "metadata": {},
   "outputs": [],
   "source": [
    "#\n",
    "# INPUT OUTPUT EXAMPLES\n",
    "#\n",
    "\n",
    "### INPUT\n",
    "#\n",
    "# \"/home/ubuntu/.../htmlfiles\"   # folder. it represents the root for input files.\n",
    "# - 1200    # folder. it represents the contest number\n",
    "#   - A     # file. this represents the question name\n",
    "#   - B\n",
    "#   - C\n",
    "#   - ...\n",
    "# - 1202\n",
    "#   - A\n",
    "#   - B\n",
    "#   - C\n",
    "#   - D\n",
    "#   - ...\n",
    "# - 1203\n",
    "#   - ...\n",
    "# - ...\n",
    "\n",
    "### OUTPUT\n",
    "#\n",
    "# \"/home/ubuntu/.../testcasesOutput\"   # folder. it represents the root for output files.\n",
    "# - 1200\n",
    "#   - A\n",
    "#     - input\n",
    "#       - 1.txt\n",
    "#       - 2.txt\n",
    "#       - ...\n",
    "#     - output\n",
    "#       - 1.txt\n",
    "#       - ...\n",
    "#   - B\n",
    "#     - input\n",
    "#       - ...\n",
    "#     - output\n",
    "#       - ...\n",
    "#   - ...\n",
    "# - 1202\n",
    "#   - ...\n",
    "# - ...\n"
   ]
  },
  {
   "cell_type": "markdown",
   "metadata": {},
   "source": [
    "## CODE"
   ]
  },
  {
   "cell_type": "code",
   "execution_count": 2,
   "metadata": {},
   "outputs": [],
   "source": [
    "# import\n",
    "from bs4 import BeautifulSoup\n",
    "import os\n",
    "import pathlib  # This module is best used with Python 3.2 or later, but it is also compatible with Python 2.6 and 2.7."
   ]
  },
  {
   "cell_type": "code",
   "execution_count": 3,
   "metadata": {},
   "outputs": [],
   "source": [
    "# INPUT AND OUTPUT PATH NAMES\n",
    "baseDir = '/home/ubuntu/workspace/pyws/getTestcases'\n",
    "inputDir = os.path.join(baseDir, 'inputs')\n",
    "outputDir = os.path.join(baseDir, 'outputs')"
   ]
  },
  {
   "cell_type": "code",
   "execution_count": 4,
   "metadata": {},
   "outputs": [],
   "source": [
    "# get contest list\n",
    "inputContestDir = next(os.walk(inputDir))[1]"
   ]
  },
  {
   "cell_type": "code",
   "execution_count": 5,
   "metadata": {},
   "outputs": [],
   "source": [
    "# input: \n",
    "#  - html-file-handler (class '_io.TextIOWrapper')\n",
    "#  - testcase-input-dirname (string)\n",
    "#  - testcase-output-dirname (string)\n",
    "\n",
    "# output: multiple values\n",
    "#  - the number of generated testcase pairs (int)\n",
    "#  - result code (0 for normal)\n",
    "def gen_testCases(htmlf, inDir, outDir):\n",
    "    htmlStr = htmlf.read()\n",
    "    soup = BeautifulSoup(htmlStr, 'html.parser')\n",
    "    for script in soup([\"script\", \"style\"]):\n",
    "        script.extract()\n",
    "    alltests = soup.find('div', 'tests-placeholder')\n",
    "    inputs = alltests.find_all('pre', 'input')\n",
    "    outputs = alltests.find_all('pre', 'answer')\n",
    "    count = 1\n",
    "    exclude_first_flag = True\n",
    "    for (i, o) in zip(inputs, outputs):\n",
    "        if exclude_first_flag:\n",
    "            exclude_first_flag = False\n",
    "            continue\n",
    "        istr = i.get_text()\n",
    "        ostr = o.get_text()\n",
    "        if istr[-3:] == '...' or ostr[-3:] == '...':\n",
    "            continue\n",
    "        else:\n",
    "            ifn = os.path.join(inDir, str(count))\n",
    "            ofn = os.path.join(outDir, str(count))\n",
    "            with open(ifn, 'w') as ifile:\n",
    "                with open(ofn, 'w') as ofile:\n",
    "                    ifile.write(istr)\n",
    "                    ofile.write(ostr)\n",
    "            count += 1\n",
    "    return ((count - 1), 0)"
   ]
  },
  {
   "cell_type": "code",
   "execution_count": 6,
   "metadata": {},
   "outputs": [],
   "source": [
    "# iterate files and generate testcases\n",
    "runFlag = False\n",
    "\n",
    "if runFlag:\n",
    "    for ictDir in inputContestDir:\n",
    "        ictDirFull = os.path.join(inputDir, ictDir)\n",
    "        octDirFull = os.path.join(outputDir, ictDir)\n",
    "        qFilenames = next(os.walk(ictDirFull))[2]\n",
    "        for qFilename in qFilenames:\n",
    "            qFilenameFull = os.path.join(ictDirFull, qFilename)\n",
    "            with open(qFilenameFull, 'r') as qf:\n",
    "                tcInDirFull = os.path.join(octDirFull, qFilename, 'input')\n",
    "                tcOutDirFull = os.path.join(octDirFull, qFilename, 'output')\n",
    "                pathlib.Path(tcInDirFull).mkdir(parents=True, exist_ok=True) \n",
    "                pathlib.Path(tcOutDirFull).mkdir(parents=True, exist_ok=True) \n",
    "                gen_testCases(qf, tcInDirFull, tcOutDirFull)\n",
    "        print('Contest ' + str(ictDir) + ' testcases are collected.')"
   ]
  },
  {
   "cell_type": "markdown",
   "metadata": {},
   "source": [
    "## Check Results"
   ]
  },
  {
   "cell_type": "code",
   "execution_count": 7,
   "metadata": {},
   "outputs": [],
   "source": [
    "outputContestDir = next(os.walk(outputDir))[1]\n",
    "sizeCounter = {}\n",
    "for octDir in outputContestDir:\n",
    "    octDirFull = os.path.join(outputDir, octDir)\n",
    "    qDirnames = next(os.walk(octDirFull))[1]\n",
    "    for qDirname in qDirnames:\n",
    "        qDirnameFull = os.path.join(octDirFull, qDirname)\n",
    "        tcOutDirFull = os.path.join(qDirnameFull, 'output')\n",
    "        qsize = len(next(os.walk(tcOutDirFull))[2])\n",
    "        k = (int)(qsize / 1)\n",
    "        sizeCounter.setdefault(k, 0)\n",
    "        sizeCounter[k] += 1\n",
    "#for k, v in sizeCounter.items():\n",
    "#    print(str(k) + ', ' + str(v))\n",
    "    "
   ]
  },
  {
   "cell_type": "code",
   "execution_count": 8,
   "metadata": {},
   "outputs": [],
   "source": [
    "sizeCounter_list = sorted([(k, v) for k, v in sizeCounter.items()])\n",
    "sizeCounter_list_x, sizeCounter_list_y = [v1 for v1, v2 in sizeCounter_list], [v2 for v1, v2 in sizeCounter_list]\n",
    "\n",
    "%matplotlib inline\n",
    "import matplotlib.pyplot as plt\n",
    "# x : the number of testcases\n",
    "# y : the number of questions which has x testcases\n",
    "#plt.plot(sizeCounter_list_x, sizeCounter_list_y)\n",
    "#plt.show()\n",
    "\n"
   ]
  },
  {
   "cell_type": "code",
   "execution_count": null,
   "metadata": {},
   "outputs": [],
   "source": []
  }
 ],
 "metadata": {
  "kernelspec": {
   "display_name": "Python 3",
   "language": "python",
   "name": "python3"
  },
  "language_info": {
   "codemirror_mode": {
    "name": "ipython",
    "version": 3
   },
   "file_extension": ".py",
   "mimetype": "text/x-python",
   "name": "python",
   "nbconvert_exporter": "python",
   "pygments_lexer": "ipython3",
   "version": "3.6.8"
  }
 },
 "nbformat": 4,
 "nbformat_minor": 2
}
